{
  "nbformat": 4,
  "nbformat_minor": 0,
  "metadata": {
    "colab": {
      "provenance": [],
      "gpuType": "T4",
      "include_colab_link": true
    },
    "kernelspec": {
      "name": "python3",
      "display_name": "Python 3"
    },
    "language_info": {
      "name": "python"
    },
    "accelerator": "GPU"
  },
  "cells": [
    {
      "cell_type": "markdown",
      "metadata": {
        "id": "view-in-github",
        "colab_type": "text"
      },
      "source": [
        "<a href=\"https://colab.research.google.com/github/KwonHo-geun/AI_Study/blob/main/25.07.25_%EC%8B%A4%EC%A0%9C%20%EC%8B%A4%EC%8B%9C_%EA%B2%B0%EA%B3%BC.ipynb\" target=\"_parent\"><img src=\"https://colab.research.google.com/assets/colab-badge.svg\" alt=\"Open In Colab\"/></a>"
      ]
    },
    {
      "cell_type": "code",
      "execution_count": null,
      "metadata": {
        "id": "m3VY7PKGQmuD"
      },
      "outputs": [],
      "source": [
        "!pip install yt-dlp  # 유튜브 영상을 다운\n",
        "!pip install ultralytics\n",
        "\n",
        "from ultralytics import YOLO\n",
        "import yt_dlp\n",
        "import tempfile  # 유튜브 링크로 처리속도 향상을 위함"
      ]
    },
    {
      "cell_type": "code",
      "source": [
        "# 필수 라이브러리 설치 (최신 yt-dlp)\n",
        "!pip install -U yt-dlp\n",
        "\n",
        "# ✅ 유튜브 주소 입력\n",
        "YOUTUBE_URL = \"https://www.youtube.com/watch?v=BhTLa3fdZhE&pp=ygUT64-E66Gc7KO87ZaJIOyYgeyDgQ%3D%3D\"  # 테스트용: 다른 주소로 바꿔도 됨\n",
        "\n",
        "# 저장 경로 설정\n",
        "import os\n",
        "os.makedirs(\"videos\", exist_ok=True)\n",
        "video_path = \"videos/input.mp4\"\n",
        "\n",
        "# yt-dlp 다운로드 옵션\n",
        "import yt_dlp\n",
        "\n",
        "ydl_opts = {\n",
        "    \"outtmpl\": video_path,                # 저장될 경로\n",
        "    \"format\": \"best[ext=mp4]/best\",       # mp4 확장자 우선\n",
        "    \"noplaylist\": True,\n",
        "    \"quiet\": False,\n",
        "    \"restrictfilenames\": True,\n",
        "    \"retries\": 3,\n",
        "}\n",
        "\n",
        "# 다운로드 실행\n",
        "try:\n",
        "    print(f\"⬇️ 유튜브 영상 다운로드 중...\\n🎥 {YOUTUBE_URL}\")\n",
        "    with yt_dlp.YoutubeDL(ydl_opts) as ydl:\n",
        "        ydl.download([YOUTUBE_URL])\n",
        "    print(f\"✅ 다운로드 완료: {video_path}\")\n",
        "except Exception as e:\n",
        "    raise RuntimeError(f\"❌ 다운로드 실패: {e}\")"
      ],
      "metadata": {
        "colab": {
          "base_uri": "https://localhost:8080/"
        },
        "id": "is-JgANuQnl5",
        "outputId": "71737867-dd84-426b-ab98-49868bc80bac"
      },
      "execution_count": null,
      "outputs": [
        {
          "output_type": "stream",
          "name": "stdout",
          "text": [
            "Requirement already satisfied: yt-dlp in /usr/local/lib/python3.11/dist-packages (2025.7.21)\n",
            "⬇️ 유튜브 영상 다운로드 중...\n",
            "🎥 https://www.youtube.com/watch?v=BhTLa3fdZhE&pp=ygUT64-E66Gc7KO87ZaJIOyYgeyDgQ%3D%3D\n",
            "[youtube] Extracting URL: https://www.youtube.com/watch?v=BhTLa3fdZhE&pp=ygUT64-E66Gc7KO87ZaJIOyYgeyDgQ%3D%3D\n",
            "[youtube] BhTLa3fdZhE: Downloading webpage\n",
            "[youtube] BhTLa3fdZhE: Downloading tv client config\n",
            "[youtube] BhTLa3fdZhE: Downloading player a1f2424c-main\n",
            "[youtube] BhTLa3fdZhE: Downloading tv player API JSON\n",
            "[youtube] BhTLa3fdZhE: Downloading ios player API JSON\n",
            "[youtube] BhTLa3fdZhE: Downloading m3u8 information\n",
            "[info] BhTLa3fdZhE: Downloading 1 format(s): 18\n",
            "[download] Destination: videos/input.mp4\n",
            "[download] 100% of   16.63MiB in 00:00:04 at 3.90MiB/s   \n",
            "✅ 다운로드 완료: videos/input.mp4\n"
          ]
        }
      ]
    },
    {
      "cell_type": "markdown",
      "source": [
        "추론에 쓰인 fps까지 계산하도록 추가함"
      ],
      "metadata": {
        "id": "3OUoT3-1WGDp"
      }
    },
    {
      "cell_type": "code",
      "source": [
        "from ultralytics import YOLO\n",
        "import os, glob\n",
        "import cv2\n",
        "import time\n",
        "\n",
        "# 🎯 1. 모델 로드\n",
        "MODEL_WEIGHTS = \"yolo11n.pt\"   # 또는 \"yolov8n.pt\"\n",
        "model = YOLO(MODEL_WEIGHTS)\n",
        "\n",
        "# 📁 2. 비디오 경로\n",
        "video_path = \"videos/input.mp4\"  # 다운로드 경로 그대로 사용\n",
        "\n",
        "# 🎞 3. 원본 영상 FPS, 총 프레임, 길이 측정\n",
        "cap = cv2.VideoCapture(video_path)\n",
        "if not cap.isOpened():\n",
        "    raise RuntimeError(f\"❌ 영상 열기 실패: {video_path}\")\n",
        "\n",
        "fps_original = cap.get(cv2.CAP_PROP_FPS)\n",
        "frame_count = int(cap.get(cv2.CAP_PROP_FRAME_COUNT))\n",
        "duration = frame_count / fps_original if fps_original else 0\n",
        "\n",
        "print(\"📊 원본 영상 정보\")\n",
        "print(f\" - FPS: {fps_original:.2f}\")\n",
        "print(f\" - 총 프레임 수: {frame_count}\")\n",
        "print(f\" - 길이: {duration:.2f}초\")\n",
        "\n",
        "cap.release()\n",
        "\n",
        "# 🧠 4. traffic light 클래스 인덱스 추출\n",
        "names = model.names\n",
        "if isinstance(names, dict):\n",
        "    tl_idx = [k for k, v in names.items() if v == 'traffic light'][0]\n",
        "else:\n",
        "    tl_idx = names.index('traffic light')\n",
        "\n",
        "# ⚙️ 5. YOLO 추론 수행 (시간 측정 포함)\n",
        "save_dir = \"runs/detect/traffic_light\"\n",
        "\n",
        "start_time = time.time()\n",
        "results = model.predict(\n",
        "    source=video_path,\n",
        "    conf=0.25,\n",
        "    classes=[tl_idx],\n",
        "    save=True,\n",
        "    project=\"runs/detect\",\n",
        "    name=\"traffic_light\",\n",
        "    vid_stride=1  # 모든 프레임 사용\n",
        ")\n",
        "end_time = time.time()\n",
        "\n",
        "# 📁 6. 결과 비디오 경로 탐색\n",
        "out_videos = glob.glob(os.path.join(save_dir, \"*.mp4\"))\n",
        "print(\"\\n📁 결과 비디오:\", out_videos)\n",
        "\n",
        "# ⏱️ 7. YOLO 추론 성능 측정\n",
        "elapsed = end_time - start_time\n",
        "inferred_frames = len(results)\n",
        "fps_yolo = inferred_frames / elapsed if elapsed > 0 else 0\n",
        "\n",
        "print(\"\\n⚙️ YOLO 추론 처리 정보\")\n",
        "print(f\" - 전체 처리 시간: {elapsed:.2f}초\")\n",
        "print(f\" - 처리된 프레임 수: {inferred_frames}\")\n",
        "print(f\" - 평균 추론 FPS: {fps_yolo:.2f} frames/sec\")"
      ],
      "metadata": {
        "id": "Yyp4FMVGRMgW"
      },
      "execution_count": null,
      "outputs": []
    }
  ]
}