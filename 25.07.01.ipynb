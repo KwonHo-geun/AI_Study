{
  "cells": [
    {
      "cell_type": "markdown",
      "metadata": {
        "id": "view-in-github",
        "colab_type": "text"
      },
      "source": [
        "<a href=\"https://colab.research.google.com/github/KwonHo-geun/AI_Study/blob/main/25.07.01.ipynb\" target=\"_parent\"><img src=\"https://colab.research.google.com/assets/colab-badge.svg\" alt=\"Open In Colab\"/></a>"
      ]
    },
    {
      "cell_type": "markdown",
      "source": [
        "1번 문제 - https://claude.ai/public/artifacts/ecfa16b4-2106-4e7b-a637-a17f20eb3126"
      ],
      "metadata": {
        "id": "0rXv-3YUYq3R"
      }
    },
    {
      "cell_type": "code",
      "source": [
        "def init_sensors():\n",
        "  sensors = {\n",
        "  \"front\" : 15.0,\n",
        "  \"left\" : 15.0,\n",
        "  \"right\" : 15.0\n",
        "  }\n",
        "\n",
        "\n",
        "  return sensors\n",
        "\n",
        "if __name__ == \"__main__\":\n",
        "  print(\"센서 시작\")\n",
        "  print(\"-\"*30)\n",
        "  sensors = init_sensors()\n",
        "  print(sensors)"
      ],
      "metadata": {
        "colab": {
          "base_uri": "https://localhost:8080/"
        },
        "id": "hW-twHpEXYPo",
        "outputId": "5fbb06be-2310-41c2-8ea7-03bf6db2cd1a"
      },
      "execution_count": 24,
      "outputs": [
        {
          "output_type": "stream",
          "name": "stdout",
          "text": [
            "센서 시작\n",
            "------------------------------\n",
            "{'front': 15.0, 'left': 15.0, 'right': 15.0}\n"
          ]
        }
      ]
    },
    {
      "cell_type": "code",
      "source": [
        "#return문을 넣지 않을 경우 print(sensors)를 해도 안됨.\n",
        "#return의 의미는 호출한 함수의 결과값을 대처한다고 생각하면 된다.\n",
        "def init_sensors():\n",
        "  sensors = {\n",
        "  \"front\" : 15.0,\n",
        "  \"left\" : 15.0,\n",
        "  \"right\" : 15.0\n",
        "  }\n",
        "\n",
        "  print(sensors)\n",
        "\n",
        "if __name__ == \"__main__\":\n",
        "  print(\"센서 시작\")\n",
        "  print(\"-\"*30)\n",
        "  #sensors = init_sensors()\n",
        "  #print(sensors)"
      ],
      "metadata": {
        "colab": {
          "base_uri": "https://localhost:8080/"
        },
        "id": "NAG4qbJEdBVH",
        "outputId": "8b1f05c6-b7cc-432d-9ed1-b6fdc209f413"
      },
      "execution_count": 26,
      "outputs": [
        {
          "output_type": "stream",
          "name": "stdout",
          "text": [
            "센서 시작\n",
            "------------------------------\n"
          ]
        }
      ]
    },
    {
      "cell_type": "markdown",
      "source": [
        "2번 문제 - https://claude.ai/public/artifacts/2bacfb57-fa54-46bf-bd52-f4d858b045a4"
      ],
      "metadata": {
        "id": "-YDKf_t1dmRl"
      }
    },
    {
      "cell_type": "code",
      "source": [
        "def scan_front(x, y, obstacles, sensors):\n",
        "  sensors = {\n",
        "      \"front\" : 15.0,\n",
        "      \"left\" : 15.0,\n",
        "      \"right\" : 15.0\n",
        "  }\n",
        "  print(\"2-04 앞쪽 스캔 시작\")\n",
        "\n",
        "  if(x, y+1) in obstacles:\n",
        "    print(\"2-06 앞쪽 1칸 장애물 발견\")\n",
        "    sensors[\"front\"] = 1.0\n",
        "  elif(x, y+2) in obstacles:\n",
        "    print(\"2-10 앞쪽 2칸 장애물 발견\")\n",
        "    sensors[\"front\"] = 2.0\n",
        "  elif(x, y+3) in obstacles:\n",
        "    print(\"2-13 앞쪽 3칸 장애물 발견\")\n",
        "    sensors[\"front\"] = 3.0\n",
        "  else:\n",
        "    print(\"2-15 앞쪽 장애물 없음\")\n",
        "    sensors[\"front\"] = 15.0\n",
        "  return sensors\n",
        "\"\"\"\n",
        "if __name__ == \"__main__\":\n",
        "  print(\"센서 시작\")\n",
        "  print(\"-\"*30)\n",
        "  sensors = scan_front(1, 1, [], {})\n",
        "  print(sensors)\n",
        "\"\"\""
      ],
      "metadata": {
        "colab": {
          "base_uri": "https://localhost:8080/",
          "height": 54
        },
        "id": "s_1AIFi2dn9T",
        "outputId": "21d1c952-40bb-4f63-d12f-cd4db03265d9"
      },
      "execution_count": 63,
      "outputs": [
        {
          "output_type": "execute_result",
          "data": {
            "text/plain": [
              "'\\nif __name__ == \"__main__\":\\n  print(\"센서 시작\")\\n  print(\"-\"*30)\\n  sensors = scan_front(1, 1, [], {})\\n  print(sensors)\\n'"
            ],
            "application/vnd.google.colaboratory.intrinsic+json": {
              "type": "string"
            }
          },
          "metadata": {},
          "execution_count": 63
        }
      ]
    },
    {
      "cell_type": "markdown",
      "source": [
        "3번 왼쪽 스캔 - https://claude.ai/public/artifacts/0bd88961-bc8c-43b4-b40b-aa0a27fe96df"
      ],
      "metadata": {
        "id": "ddrOupeOjyP-"
      }
    },
    {
      "cell_type": "code",
      "source": [
        "def scan_left(x, y, obstacles, sensors):\n",
        "    sensors = {\n",
        "        \"front\": 15.0,\n",
        "        \"left\": 15.0,\n",
        "        \"right\": 15.0\n",
        "    }\n",
        "    print(\"3-04 왼쪽 스캔 시작\")\n",
        "\n",
        "    # 장애물 좌표 검사 (튜플 사용)\n",
        "    if (x-1, y) in obstacles:\n",
        "        print(\"3-06 왼쪽 1칸 장애물 발견\")\n",
        "        sensors[\"left\"] = 1.0\n",
        "    elif (x-2, y) in obstacles:\n",
        "        print(\"3-10 왼쪽 2칸 장애물 발견\")\n",
        "        sensors[\"left\"] = 2.0\n",
        "    elif (x-3, y) in obstacles:\n",
        "        print(\"3-13 왼쪽 3칸 장애물 발견\")\n",
        "        sensors[\"left\"] = 3.0\n",
        "    else:\n",
        "        print(\"3-15 왼쪽 장애물 없음\")\n",
        "        sensors[\"left\"] = 15.0\n",
        "\n",
        "    return sensors\n",
        "\"\"\"\n",
        "if __name__ == \"__main__\":\n",
        "    print(\"센서 시작\")\n",
        "    print(\"-\" * 30)\n",
        "\n",
        "    # 장애물 리스트: (x, y) 튜플로 구성\n",
        "    obstacles = [(-2, 0), (-3, 0)]  # 올바른 형식\n",
        "\n",
        "    # 함수 호출 (sensors 인자 제거)\n",
        "    result_sensors = scan_left(0, 0, obstacles)\n",
        "    print(result_sensors)\n",
        "\"\"\""
      ],
      "metadata": {
        "colab": {
          "base_uri": "https://localhost:8080/",
          "height": 90
        },
        "id": "SdZaND1zj9Af",
        "outputId": "8fe0bb77-2ec6-4282-edcf-44b3c8e08b7b"
      },
      "execution_count": 61,
      "outputs": [
        {
          "output_type": "execute_result",
          "data": {
            "text/plain": [
              "'\\nif __name__ == \"__main__\":\\n    print(\"센서 시작\")\\n    print(\"-\" * 30)\\n  \\n    # 장애물 리스트: (x, y) 튜플로 구성\\n    obstacles = [(-2, 0), (-3, 0)]  # 올바른 형식\\n    \\n    # 함수 호출 (sensors 인자 제거)\\n    result_sensors = scan_left(0, 0, obstacles)\\n    print(result_sensors)\\n'"
            ],
            "application/vnd.google.colaboratory.intrinsic+json": {
              "type": "string"
            }
          },
          "metadata": {},
          "execution_count": 61
        }
      ]
    },
    {
      "cell_type": "markdown",
      "source": [
        "4번 문제"
      ],
      "metadata": {
        "id": "Owax8mbR3CAC"
      }
    },
    {
      "cell_type": "code",
      "source": [
        "def scan_right(x, y, obstacles, sensors):\n",
        "    sensors = {\n",
        "        \"front\": 15.0,\n",
        "        \"left\": 15.0,\n",
        "        \"right\": 15.0\n",
        "    }\n",
        "    print(\"3-04 오른쪽 스캔 시작\")\n",
        "\n",
        "    # 장애물 좌표 검사 (튜플 사용)\n",
        "    if (x+1, y) in obstacles:\n",
        "        print(\"3-06 오른쪽 1칸 장애물 발견\")\n",
        "        sensors[\"right\"] = 1.0\n",
        "    elif (x+2, y) in obstacles:\n",
        "        print(\"3-10 오른쪽 2칸 장애물 발견\")\n",
        "        sensors[\"right\"] = 2.0\n",
        "    elif (x+3, y) in obstacles:\n",
        "        print(\"3-13 오른쪽 3칸 장애물 발견\")\n",
        "        sensors[\"right\"] = 3.0\n",
        "    else:\n",
        "        print(\"3-15 오른쪽 장애물 없음\")\n",
        "        sensors[\"right\"] = 15.0\n",
        "\n",
        "    return sensors\n",
        "\n",
        "\"\"\"\n",
        "if __name__ == \"__main__\":\n",
        "    print(\"센서 시작\")\n",
        "    print(\"-\" * 30)\n",
        "\n",
        "    # 장애물 리스트: (x, y) 튜플로 구성\n",
        "    obstacles = [(2, 0), (3, 0)]  # 올바른 형식\n",
        "\n",
        "    # 함수 호출 (sensors 인자 제거)\n",
        "    result_sensors = scan_right(0, 0, obstacles)\n",
        "    print(result_sensors)\n",
        "\"\"\""
      ],
      "metadata": {
        "id": "7mzm1BO0p54c",
        "outputId": "9b5e8a09-622d-4948-8a22-7ddefd3a2493",
        "colab": {
          "base_uri": "https://localhost:8080/",
          "height": 90
        }
      },
      "execution_count": 60,
      "outputs": [
        {
          "output_type": "execute_result",
          "data": {
            "text/plain": [
              "'\\nif __name__ == \"__main__\":\\n    print(\"센서 시작\")\\n    print(\"-\" * 30)\\n  \\n    # 장애물 리스트: (x, y) 튜플로 구성\\n    obstacles = [(2, 0), (3, 0)]  # 올바른 형식\\n    \\n    # 함수 호출 (sensors 인자 제거)\\n    result_sensors = scan_right(0, 0, obstacles)\\n    print(result_sensors)\\n'"
            ],
            "application/vnd.google.colaboratory.intrinsic+json": {
              "type": "string"
            }
          },
          "metadata": {},
          "execution_count": 60
        }
      ]
    },
    {
      "cell_type": "markdown",
      "source": [
        "5번 문제 - https://claude.ai/public/artifacts/0071fea5-0417-4ac3-b753-5e47ea108c2a"
      ],
      "metadata": {
        "id": "xITq9fWpoDdZ"
      }
    },
    {
      "cell_type": "code",
      "source": [
        "#position =\n",
        "def update_sensor_data(position, obstacles):\n",
        "    print(\"5-4 함수 시작\")\n",
        "\n",
        "    x = position[0]\n",
        "    y = position[1]\n",
        "    print(type(position))\n",
        "    print(type(obstacles))\n",
        "\n",
        "    print(\"5-6 위치 추출 완료\")\n",
        "    print(f\"5-7 현재 x: {x}, y: {y}\")\n",
        "\n",
        "    sensors = init_sensors()\n",
        "    print(f\"5-9 초기 센서 값: {sensors}\")\n",
        "\n",
        "    #각 방향 스캔\n",
        "    scan_front(x, y, obstacles, sensors)\n",
        "    scan_left(x, y, obstacles, sensors)\n",
        "    scan_right(x, y, obstacles, sensors)\n",
        "\n",
        "    print(\"5-17 센서 업데이트 완료\")\n",
        "    print(\"최종 센서 데이터 출력\")\n",
        "    return sensors\n",
        "\n",
        "#예시 코드\n",
        "position = (1,2)\n",
        "#장애물이 여기에 있다.\n",
        "obstacles = {(0,2), (1,3), (2,4)}\n",
        "print(f\"센서 값 : {update_sensor_data(position, obstacles)}\")"
      ],
      "metadata": {
        "colab": {
          "base_uri": "https://localhost:8080/"
        },
        "id": "FZF3KQaUk5-v",
        "outputId": "36255fab-0c96-438e-9755-4590935c4eb9"
      },
      "execution_count": 65,
      "outputs": [
        {
          "output_type": "stream",
          "name": "stdout",
          "text": [
            "5-4 함수 시작\n",
            "<class 'tuple'>\n",
            "<class 'set'>\n",
            "5-6 위치 추출 완료\n",
            "5-7 현재 x: 1, y: 2\n",
            "{'front': 15.0, 'left': 15.0, 'right': 15.0}\n",
            "5-9 초기 센서 값: None\n",
            "2-04 앞쪽 스캔 시작\n",
            "2-06 앞쪽 1칸 장애물 발견\n",
            "3-04 왼쪽 스캔 시작\n",
            "3-06 왼쪽 1칸 장애물 발견\n",
            "3-04 오른쪽 스캔 시작\n",
            "3-15 오른쪽 장애물 없음\n",
            "5-17 센서 업데이트 완료\n",
            "최종 센서 데이터 출력\n",
            "센서 값 : None\n"
          ]
        }
      ]
    },
    {
      "cell_type": "markdown",
      "source": [
        "6번문제 - https://claude.ai/public/artifacts/27051f81-4a36-4075-8d2b-ec7199d9a7fb"
      ],
      "metadata": {
        "id": "nN5KoMXxvrtR"
      }
    },
    {
      "cell_type": "code",
      "source": [
        "def detect_obstacles(sensors, safe_distance):\n",
        "  print(\"6-4 함수시작\")\n",
        "  print(\"6-5 입력 데이터\",sensors, safe_distance)\n",
        "  obstacles = []\n",
        "\n",
        "  for direction, distance in sensors.items():\n",
        "    print(\"6-9 현재 방향과 거리 체크\")\n",
        "    if distance < safe_distance:\n",
        "      obstacles.append(direction)\n",
        "      print(\"6-12 위험! 목록 추가\")\n",
        "    else:\n",
        "      print(\"안전\")\n",
        "\n",
        "  print(\"6-16 장애물 감지 완료\")\n",
        "  print(obstacles)\n",
        "  return obstacles\n",
        "\n",
        "if __name__ == \"__main__\":\n",
        "  print(\"센서 시작\")\n",
        "  print(\"\")"
      ],
      "metadata": {
        "id": "fard7qF_vq9v",
        "outputId": "621f3f81-891a-4eeb-d64d-0bea9b32506e",
        "colab": {
          "base_uri": "https://localhost:8080/",
          "height": 110
        }
      },
      "execution_count": 46,
      "outputs": [
        {
          "output_type": "error",
          "ename": "SyntaxError",
          "evalue": "invalid syntax (ipython-input-46-2994731749.py, line 18)",
          "traceback": [
            "\u001b[0;36m  File \u001b[0;32m\"/tmp/ipython-input-46-2994731749.py\"\u001b[0;36m, line \u001b[0;32m18\u001b[0m\n\u001b[0;31m    if __name__ \"__main__\":\u001b[0m\n\u001b[0m                ^\u001b[0m\n\u001b[0;31mSyntaxError\u001b[0m\u001b[0;31m:\u001b[0m invalid syntax\n"
          ]
        }
      ]
    },
    {
      "cell_type": "markdown",
      "source": [
        "7번문제- https://claude.ai/public/artifacts/13112488-2160-4216-8845-4187a58f746c\n",
        "\n"
      ],
      "metadata": {
        "id": "r6o9vD0l1Cy6"
      }
    },
    {
      "cell_type": "code",
      "source": [
        "def decide_action(obstacles, sensors):\n",
        "  print(\"7-4 함수 시작\")\n",
        "  print(\"7-5 입력 데이터\", obstacles, sensors)\n",
        "\n",
        "  if len(obstacles) == 0:\n",
        "    action ="
      ],
      "metadata": {
        "id": "X_qRoKlZ1CGO"
      },
      "execution_count": null,
      "outputs": []
    },
    {
      "cell_type": "markdown",
      "source": [
        "8번 문제 -https://claude.ai/public/artifacts/6ddac9ec-2dba-456b-bb09-bf6e277a8a06"
      ],
      "metadata": {
        "id": "cPOQxNKKzk4s"
      }
    },
    {
      "cell_type": "code",
      "source": [
        "class SimpleCar:\n",
        "  def __init__(self, name, x, y):\n",
        "    self.name = name\n",
        "    self.x = x\n",
        "    self.y = y\n",
        "\n",
        "  def execute_action(self, action):\n",
        "    self.action = action\n",
        "\n",
        "  def move_forward():\n",
        "    print(\"전진\")\n",
        "    y += 1\n",
        "\n",
        "  def turn_left():\n",
        "    print(\"좌회전\")\n",
        "    x -= 1\n",
        "\n",
        "  def turn_right():\n",
        "    print(\"우회전\")\n",
        "    x += 1\n",
        "\n",
        "  def stop():\n",
        "    print(\"현재 위치 유지\")\n",
        "\n",
        "def run_simulation(obstracles):\n",
        "  i = 0\n",
        "  while i < 10:\n",
        "    update_sensor_data()\n",
        "    detect_obstacles()\n",
        "    decide_action()\n",
        "    execute_action()\n",
        "    i++\n",
        ""
      ],
      "metadata": {
        "id": "nDlSi_pVzoxX"
      },
      "execution_count": null,
      "outputs": []
    },
    {
      "cell_type": "markdown",
      "source": [
        "9번 문제 - https://claude.ai/public/artifacts/76eafd8d-4d90-437d-be19-5bf67c275500"
      ],
      "metadata": {
        "id": "TI6rjjuz1HIu"
      }
    },
    {
      "cell_type": "code",
      "source": [
        "if __name__ == \"__main__\":\n",
        "  print(\"9-3 메인 실행 시작\")\n",
        "  print(\"자동차 생성\")\n",
        ""
      ],
      "metadata": {
        "id": "XYofTugD1QPV"
      },
      "execution_count": null,
      "outputs": []
    }
  ],
  "metadata": {
    "colab": {
      "name": "Colab 시작하기",
      "toc_visible": true,
      "provenance": [],
      "include_colab_link": true
    },
    "kernelspec": {
      "display_name": "Python 3",
      "name": "python3"
    }
  },
  "nbformat": 4,
  "nbformat_minor": 0
}