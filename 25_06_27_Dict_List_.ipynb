{
  "nbformat": 4,
  "nbformat_minor": 0,
  "metadata": {
    "colab": {
      "provenance": [],
      "authorship_tag": "ABX9TyPpgClDaO1m0sE74pXFvgJX",
      "include_colab_link": true
    },
    "kernelspec": {
      "name": "python3",
      "display_name": "Python 3"
    },
    "language_info": {
      "name": "python"
    }
  },
  "cells": [
    {
      "cell_type": "markdown",
      "metadata": {
        "id": "view-in-github",
        "colab_type": "text"
      },
      "source": [
        "<a href=\"https://colab.research.google.com/github/KwonHo-geun/AI_Study/blob/main/25_06_27_Dict_List_.ipynb\" target=\"_parent\"><img src=\"https://colab.research.google.com/assets/colab-badge.svg\" alt=\"Open In Colab\"/></a>"
      ]
    },
    {
      "cell_type": "markdown",
      "source": [
        "Polymorphism-다형성"
      ],
      "metadata": {
        "id": "z4-ViVpr0MMB"
      }
    },
    {
      "cell_type": "code",
      "source": [
        "x = \"hogeun0\"\n",
        "print(len(x))\n",
        "\n",
        "mytuple = (\"apple\", \"banana\",\"cherry\")\n",
        "print(len(mytuple))\n",
        "\n",
        "#key-value값으로 3개\n",
        "thisdict ={\n",
        "    \"braad\" : \"Frod\",\n",
        "    \"Model\" : \"Mustang\",\n",
        "    \"year\" : \"1964\"\n",
        "}\n",
        "print(len(thisdict))\n",
        "\n",
        "#class Polymorphism\n",
        "class Car:\n",
        "  def __init__(self, brand, model):\n",
        "    self.brand = brand\n",
        "    self.model = model\n",
        "\n",
        "  def move(self):\n",
        "    print(\"Drive\")\n",
        "\n",
        "class Boat:\n",
        "  def __init__(self, brand, model):\n",
        "    self.brand = brand\n",
        "    self.model = model\n",
        "\n",
        "  def move(self):\n",
        "    print(\"Sail\")\n",
        "\n",
        "class Plane:\n",
        "  def __init__(self, brand, model):\n",
        "    self.brand = brand\n",
        "    self.model = model\n",
        "\n",
        "  def move(self):\n",
        "    print(\"Fly\")\n",
        "\n",
        "car1 = Car(\"Ford\", \"Mustang\")\n",
        "boat1 = Boat(\"Ibiza\", \"Touring 20\")\n",
        "plane1 = Plane(\"Boeing\", \"747\")\n",
        "\n",
        "for r in (car1, boat1, plane1):\n",
        "  r.move()\n",
        "\n",
        "#Inheritance Class Polymorphism - 클래스 다형성 상속\n",
        "class Vehicle:\n",
        "  def __init__(self, brand, model):\n",
        "    self.brand = brand\n",
        "    self.model = model\n",
        "\n",
        "  def move(self):\n",
        "    print(\"무빙\")\n",
        "\n",
        "class Car(Vehicle):\n",
        "  pass\n",
        "\n",
        "class Boat(Vehicle):\n",
        "  def move(self):\n",
        "    print(\"VVE\")\n",
        "\n",
        "class Plane(Vehicle):\n",
        "  def move(self):\n",
        "    print(\"Flyhigh\")\n",
        "\n",
        "car2 = Car(\"현대\",\"그랜저\")\n",
        "boat2 = Boat(\"마르틴 블루\", \"너란 바다속에 헤엄치고 있잖아\")\n",
        "plane2 = Plane(\"제주항공\",\"뭔지 모름\")\n",
        "\n",
        "for x in (car2, boat2, plane2):\n",
        "  x.move()"
      ],
      "metadata": {
        "colab": {
          "base_uri": "https://localhost:8080/"
        },
        "id": "pZVHQvZH0SN8",
        "outputId": "0b33865f-09e9-4237-8ac9-a31763d17404"
      },
      "execution_count": 19,
      "outputs": [
        {
          "output_type": "stream",
          "name": "stdout",
          "text": [
            "7\n",
            "3\n",
            "3\n",
            "Drive\n",
            "Sail\n",
            "Fly\n",
            "무빙\n",
            "VVE\n",
            "Flyhigh\n"
          ]
        }
      ]
    },
    {
      "cell_type": "markdown",
      "source": [
        "Scope - 범위"
      ],
      "metadata": {
        "id": "5elwp3hY6KlK"
      }
    },
    {
      "cell_type": "code",
      "source": [
        "#외부 Global로 정의된 이상 외부에서 print 시 외부의 값을 따른다.\n",
        "def myfunc():\n",
        "  x = 300\n",
        "  print(x)\n",
        "\n",
        "myfunc()\n",
        "\n",
        "#함수 내부에선 호출할 순 있으나, 그 내부에 있는 함수는 알 수 없기에 함수 내부에 있는 함수를 외부에 있는 함수를 호출한다.\n",
        "def myfunc1():\n",
        "  x =250\n",
        "  def myinnerfunc():\n",
        "    print(x)\n",
        "  myinnerfunc()\n",
        "\n",
        "myfunc1()\n",
        "\n",
        "#Global Scope - 글로벌 변수는 지역 함수에서도 호출이 가능하다.\n",
        "y = 360\n",
        "\n",
        "def myfunc2():\n",
        "  print(y)\n",
        "myfunc2()\n",
        "print(y)\n",
        "\n",
        "#Naming Variables - 내부에 있는 변수와 외부에 있는 변수는 별개의 변수로써 취급한다. id는 메모리 주소를 확인\n",
        "z = 174\n",
        "def myfunc3():\n",
        "  z = 176\n",
        "  print(z)\n",
        "  print(id(z))\n",
        "\n",
        "#글로벌 키워드는 변수를 global 변수로 만든다.\n",
        "\n",
        "myfunc3()\n",
        "print(z)\n",
        "print(id(z))\n",
        "\n",
        "def myfunc4():\n",
        "  global z\n",
        "  z = 600\n",
        "\n",
        "myfunc4()\n",
        "print(z)\n",
        "\n",
        "def myfunc5():\n",
        "  w = \"Jane\"\n",
        "  print(w)\n",
        "  def myfunc6():\n",
        "    nonlocal w\n",
        "    w = \"hogeun\"\n",
        "  myfunc6()\n",
        "  return w\n",
        "\n",
        "print(myfunc5())"
      ],
      "metadata": {
        "colab": {
          "base_uri": "https://localhost:8080/"
        },
        "id": "_8TVkVtA0tKu",
        "outputId": "bc13cff0-fb98-43c2-e624-8aae4d7665a4"
      },
      "execution_count": 31,
      "outputs": [
        {
          "output_type": "stream",
          "name": "stdout",
          "text": [
            "300\n",
            "250\n",
            "360\n",
            "360\n",
            "176\n",
            "10763336\n",
            "174\n",
            "10763272\n",
            "600\n",
            "Jane\n",
            "hogeun\n"
          ]
        }
      ]
    },
    {
      "cell_type": "markdown",
      "source": [
        "자율주행 자동차 예시 코드 -"
      ],
      "metadata": {
        "id": "SJX0ooHgyC5n"
      }
    },
    {
      "cell_type": "code",
      "source": [
        "#속도 제한 적용\n",
        "current_speeds = [45, 75, 38, 82, 55, 95, 28]\n",
        "speed_limits = [50, 70, 40, 80, 60, 90,30]\n",
        "adjusted_speeds = [min(current_speeds, speed_limits)]\n",
        "\n",
        "for current, limit in zip(current_speeds, speed_limits):\n",
        "    adjusted_speeds.append(min(current, limit))\n",
        "\n",
        "print(adjusted_speeds)\n",
        "\n",
        "#경로 포인트 생성 - 시작점과 끝점 사이의 중간 포인트들 생성\n",
        "start_point = (0,0)\n",
        "end_point = (5,5)\n",
        "num_points = 5\n",
        "path_points = [(start_point[0] + i * (end_point[0] - start_point[0]) / (num_points - 1),\n",
        "                start_point[1] + i * (end_point[1] - start_point[1]) / (num_points - 1))\n",
        "               for i in range(num_points)]\n",
        "\n",
        "print(\"경로 포인트들 : \", path_points)\n",
        "\n",
        "#조건부 다중 필터링 - 위험 상황 감지\n",
        "sensor_data = [\n",
        "    {'type' : 'lidar', 'distance' : 3.2, 'angle' : 45},\n",
        "    {'type' : 'camera', 'distance' : 8.5, 'anagle' : 0},\n",
        "    {'type' : 'rander', 'distance' : 1.8, 'angle' : -30},\n",
        "    {'type' : 'liadr', 'distance' : 12.3 , 'angle' : 90}\n",
        "]\n",
        "\n",
        "danger_sensor = [sensor for sensor in sensor_data if sensor['distance'] < 5.0 and abs(sensor['angle']) < 60] #lambda + if\n",
        "print(\"위험 감지 센서 : \", danger_sensor)\n",
        "\n",
        "#신호등 색상별 행동 결정\n",
        "traffic_light = [\n",
        "    {'color' : 'red' , 'time_left' : 15},\n",
        "    {'color' : 'green', 'time_left' : 8},\n",
        "    {'color' : 'yellow', 'time_left' : 3},\n",
        "    {'color' : 'green', 'time_left' : 25}\n",
        "]\n",
        "\n",
        "stop_required = [light for light in traffic_light if light['color'] == 'red' or (light['color'] == 'yellow') and (light['time_left'] < 5)]\n",
        "print(\"정지 필요한 신호등 : \", stop_required)\n",
        "\n",
        "# 배터리 잔량에 따른 충전소 필터링\n",
        "charging_stations = [\n",
        "    {'name' : '서울역', 'distance' : 12, 'power' : 'fast'},\n",
        "    {'name' : '강남역', 'distance' : 8, 'power' : 'normal'},\n",
        "    {'name' : '홍대입구', 'distance' : 15, 'power' : 'fast'},\n",
        "    {'name' : '잠실역', 'distance' : 5, 'power' : 'slow'}\n",
        "]\n",
        "\n",
        "\n",
        "battery_percent = 15\n",
        "urgent_chargeers = [station for station in charging_stations if station['distance'] < 20 and station['power'] != 'slow']\n",
        "print(\"긴급 충전 가능한 곳 : \",urgent_chargeers)\n",
        "\n",
        "#주차 공간 크기 확인\n",
        "parking_space = [\n",
        "    {'id' : 'A1', 'length' : 4.8, 'width' : 2.3, 'occupied' : False},\n",
        "    {'id' : 'A2', 'length' : 5.2, 'width' : 2.5, 'occupied' : True},\n",
        "    {'id' : 'B3', 'length' : 4.5, 'width' : 2.1, 'occupied' : False},\n",
        "    {'id' : 'C4', 'length' : 5.0, 'width' : 2.7, 'occupied' : False}\n",
        "]\n",
        "\n",
        "vehicle_size = {'length' : 4.7, 'width' : 2.0}\n",
        "suitable_spots = [spot for spot in parking_space if not spot['occupied'] and spot['length'] > vehicle_size['length'] and\n",
        "                  spot['width'] > vehicle_size['width']]\n",
        "print(\"주차 가능한 공간 :\", suitable_spots)\n",
        "\n",
        "#2차선 차량들의 속도만 추출\n",
        "lane_vehicles = [\n",
        "    {'lane' : 1, 'speed' : 65}, {'lane' : 2, 'speed' : 80},\n",
        "    {'lane' : 3, 'speed': 85}, {'lane' : 2, 'speed' : 75},\n",
        "    {'lane' : 1, 'speed' : 70}, {'lane' : 3, 'speed' : 90},\n",
        "    {'lane' : 2, 'speed' : 82}\n",
        "]\n",
        "\n",
        "lane2_speeds = [car['speed'] for car in lane_vehicles if car['lane'] == 2]\n",
        "lane2_avg = sum(lane2_speeds) / len(lane2_speeds)\n",
        "print(\"2차선 평균 속도 : \", round(lane2_avg, 1), \"km/h\")\n",
        "\n",
        "#야간/악천후 시 센서 상태 체크\n",
        "sensor_status = [\n",
        "    {'name' : 'front_camera', 'visibility' : 0.3, 'working' : True},\n",
        "    {'name' : 'rear_camera', 'visibility' : 0.8, 'working' : True},\n",
        "    {'name' : 'side_lidar', 'visibility' : 0.9, 'working' : False},\n",
        "    {'name' : 'front_lidar', 'visibility' : 0.7, 'working' : True}\n",
        "]\n",
        "\n",
        "reliable_sensors = [sensor['name'] for sensor in sensor_status if sensor['working'] and sensor['visibility'] > 0.5]\n",
        "print(\"신뢰할 수 있는 센서 :\", reliable_sensors)"
      ],
      "metadata": {
        "colab": {
          "base_uri": "https://localhost:8080/"
        },
        "id": "D4A8lUplyHN9",
        "outputId": "f72e2e11-fd25-4367-c0b1-084ddeb51d90"
      },
      "execution_count": null,
      "outputs": [
        {
          "output_type": "stream",
          "name": "stdout",
          "text": [
            "[[45, 75, 38, 82, 55, 95, 28], 45, 70, 38, 80, 55, 90, 28]\n",
            "경로 포인트들 :  [(0.0, 0.0), (1.25, 1.25), (2.5, 2.5), (3.75, 3.75), (5.0, 5.0)]\n",
            "위험 감지 센서 :  [{'type': 'lidar', 'distance': 3.2, 'angle': 45}, {'type': 'rander', 'distance': 1.8, 'angle': -30}]\n",
            "정지 필요한 신호등 :  [{'color': 'red', 'time_left': 15}, {'color': 'yellow', 'time_left': 3}]\n",
            "긴급 충전 가능한 곳 :  [{'name': '서울역', 'distance': 12, 'power': 'fast'}, {'name': '강남역', 'distance': 8, 'power': 'normal'}, {'name': '홍대입구', 'distance': 15, 'power': 'fast'}]\n",
            "주차 가능한 공간 : [{'id': 'A1', 'length': 4.8, 'width': 2.3, 'occupied': False}, {'id': 'C4', 'length': 5.0, 'width': 2.7, 'occupied': False}]\n",
            "2차선 평균 속도 :  79.0 km/h\n",
            "신뢰할 수 있는 센서 : ['rear_camera', 'front_lidar']\n"
          ]
        }
      ]
    },
    {
      "cell_type": "markdown",
      "source": [
        "자율주행 고급 과제 모음 - (리스트 + 딕셔너리)"
      ],
      "metadata": {
        "id": "0J1o8FCHBWr9"
      }
    },
    {
      "cell_type": "code",
      "source": [
        "# ===== 과제 1: 스마트 신호등 타이밍 최적화 =====\n",
        "print(\"=== 과제 1: 스마트 신호등 타이밍 최적화 ===\")\n",
        "\n",
        "#교차로별 대기 차량 수 - 고정\n",
        "intersections = ['서울역 앞', '시청앞', '종로3가','을지로입구']\n",
        "waiting_cars = [12, 8, 15, 5]\n",
        "\n",
        "#현재 신호등 상태와 남은 시간\n",
        "traffic_signals = {}\n",
        "traffic_signals['서울역 앞'] = {'color':'빨강','time_left':25,'waiting' : 12}\n",
        "traffic_signals['시청앞'] = {'color':'초록', 'time_left' :15, 'waiting' : 8}\n",
        "traffic_signals['종로3가'] = {'color' : '빨강', 'time_left': 40, 'waiting' : 15}\n",
        "traffic_signals['을지로입구'] = {'color' : '노랑', 'time_left' : 3, 'waiting' : 5}\n",
        "\n",
        "print(\"현재 교차로 상황:\")\n",
        "for intersection in intersections:\n",
        "  signal = traffic_signals[intersection]\n",
        "  print(f\"{intersection} : {signal['color']} {signal['time_left']}초, 대기차량{signal['waiting']}대\")\n",
        "\n",
        "#우선순의 교차로 선정 (대기차량 10대 이상이면 우선처리)\n",
        "print(\"\\n우선처리 필요 교차로 :\")\n",
        "for intersection in intersections:\n",
        "  if traffic_signals[intersection]['waiting'] >= 10:\n",
        "    print(f\"{intersection} : 대기차량 {traffic_signals[intersection]['waiting']} 대\")"
      ],
      "metadata": {
        "colab": {
          "base_uri": "https://localhost:8080/"
        },
        "id": "tWV-EqRY66Iv",
        "outputId": "04628cc1-7838-4439-8a08-213ad6fd3272"
      },
      "execution_count": null,
      "outputs": [
        {
          "output_type": "stream",
          "name": "stdout",
          "text": [
            "=== 과제 1: 스마트 신호등 타이밍 최적화 ===\n",
            "현재 교차로 상황:\n",
            "서울역 앞 : 빨강 25초, 대기차량12대\n",
            "시청앞 : 초록 15초, 대기차량8대\n",
            "종로3가 : 빨강 40초, 대기차량15대\n",
            "을지로입구 : 노랑 3초, 대기차량5대\n",
            "\n",
            "우선처리 필요 교차로 :\n",
            "서울역 앞 : 대기차량 12 대\n",
            "종로3가 : 대기차량 15 대\n"
          ]
        }
      ]
    },
    {
      "cell_type": "code",
      "source": [
        "# ===== 과제 2: 자동 발렛파킹 시스템 =====\n",
        "print(\"\\n=== 과제 2: 자동 발렛파킹 시스템 ===\")\n",
        "\n",
        "#차량 크기별 분류\n",
        "vehicle_size = ['소형', '중형', '대형', 'SUV']\n",
        "size_counts = [15, 20, 8, 12]\n",
        "\n",
        "parking_spaces = {}\n",
        "parking_spaces['소형전용'] = {'total' : 30, 'occupied' : 15, 'size_limit' : '소형'}\n",
        "parking_spaces['일반공간'] = {'total' : 40, 'occupied' : 28, 'size_limit' : '중형'}\n",
        "parking_spaces['대형공간'] = {'total' : 15, 'occupied' : 8, 'size_limit' : '대형'}\n",
        "parking_spaces['SUV전용'] = {'total' : 20, 'occupied' : 12, 'size_limit' : 'SUV'}\n",
        "\n",
        "print(\"주차공간 현황 : \")\n",
        "for space_type in parking_spaces:\n",
        "  space = parking_spaces[space_type]\n",
        "  available = space['total'] - space['occupied']\n",
        "  print(f\"{space_type} : {available}/{space['total']} 가능 ({space['size_limit']}전용)\")\n",
        "\n",
        "# 신규 차량 주차 시뮬레이션\n",
        "new_vehicle = 'SUV'\n",
        "print(f\"\\n신규 {new_vehicle} 차량 주차 요청\")\n"
      ],
      "metadata": {
        "colab": {
          "base_uri": "https://localhost:8080/"
        },
        "id": "vfCLw_XcFk6e",
        "outputId": "88b24e00-332f-493f-f656-7272f0cada7a"
      },
      "execution_count": null,
      "outputs": [
        {
          "output_type": "stream",
          "name": "stdout",
          "text": [
            "\n",
            "=== 과제 2: 자동 발렛파킹 시스템 ===\n",
            "주차공간 현황 : \n",
            "소형전용 : 15/30 가능 (소형전용)\n",
            "일반공간 : 12/40 가능 (중형전용)\n",
            "대형공간 : 7/15 가능 (대형전용)\n",
            "SUV전용 : 8/20 가능 (SUV전용)\n",
            "\n",
            "신규 SUV 차량 주차 요청\n"
          ]
        }
      ]
    },
    {
      "cell_type": "code",
      "source": [
        "# ===== 과제 3: 차량 군집주행 관리 시스템 =====\n",
        "print(\"\\n=== 과제 3: 차량 군집주행 관리 시스템 ===\")\n",
        "\n",
        "#군집주행 그룹 정보\n",
        "convoy_groups = ['그룹A', '그룹B','그룹C']\n",
        "group_vehicles = [[3,4,2],[5,6,8],[2,3]]\n",
        "\n",
        "convoy_info = {}\n",
        "convoy_info['그룹A'] = {'vehicles' : 3, 'leader_speed' : 80, 'formation' : '일렬'}\n",
        "convoy_info['그룹B'] = {'vehicles' : 5, 'leader_speed' : 70, 'formation' : '삼각'}\n",
        "convoy_info['그룹C'] = {'vehicles' : 2, 'leader_speed' : 90, 'formation' : '병렬'}\n",
        "\n",
        "print(\"군집주행 현황 : \")\n",
        "for group in convoy_groups:\n",
        "  info = convoy_info[group]\n",
        "  print(f\"{group} : {info['vehicles']}대, 속도{info['leader_speed']}km/h, {info['formation']}대형\")\n",
        "\n",
        "#안전 속도권장(5대 이상이면 속도 제한)\n",
        "print(\"\\n 안전 권장사항 : \")\n",
        "for group in convoy_groups:\n",
        "  info = convoy_info[group]\n",
        "  if info['vehicles'] >= 5:\n",
        "    recommended_speed = 60\n",
        "    print(f\"{group}: 차량 {info['vehicles']}대로 인해 {recommended_speed}km/h 이하 권장\")\n",
        "\n",
        "#적합한 주차고간 찾기\n",
        "suitable_spaces = []\n",
        "for space_type in parking_spaces:\n",
        "  space = parking_spaces[space_type]\n",
        "  available = space['total'] - space['occupied']\n",
        "  if space['size_limit'] == new_vehicle and available > 0:\n",
        "    suitable_spaces.append(space_type)\n",
        "\n",
        "if suitable_spaces:\n",
        "  print(f\"{suitable_spaces[0]}에 주차 가능\")\n",
        "else:\n",
        "  print(\"적합한 주차공간 없음\")"
      ],
      "metadata": {
        "colab": {
          "base_uri": "https://localhost:8080/"
        },
        "id": "tAu7s2OJI7g_",
        "outputId": "35fcb4dd-fb5f-4b9b-e386-d52b29ce9412"
      },
      "execution_count": null,
      "outputs": [
        {
          "output_type": "stream",
          "name": "stdout",
          "text": [
            "\n",
            "=== 과제 3: 차량 군집주행 관리 시스템 ===\n",
            "군집주행 현황 : \n",
            "그룹A : 3대, 속도80km/h, 일렬대형\n",
            "그룹B : 5대, 속도70km/h, 삼각대형\n",
            "그룹C : 2대, 속도90km/h, 병렬대형\n",
            "\n",
            " 안전 권장사항 : \n",
            "그룹B: 차량 5대로 인해 60km/h 이하 권장\n",
            "SUV전용에 주차 가능\n"
          ]
        }
      ]
    },
    {
      "cell_type": "code",
      "source": [
        "# ===== 과제 4: 도로 위험도 평가 및 경고 시스템 =====\n",
        "# 긴급 충전 필요 차량 (배터리 30% 이하)\n",
        "\"\"\"\n",
        "print(\"\\n긴급 충전 필요:\")\n",
        "urgent_vehicles = []\n",
        "for vehicle in ev_fleet:\n",
        "  if ev_status[vehicle]['battery'] <= 30:\n",
        "    urgent_vehicles.append(vehicle)\n",
        "    print(f\"{vehicle} : {ev_status[vehicle]['battery']}% - 즉시 충전 필요\")\n",
        "\"\"\"\n",
        "\n",
        "#충전소 예약 시스템\n",
        "charging_stations = {}\n",
        "charging_stations['강남충전소'] = {'slots' : 5, 'reseved' : 2, 'fast_charge' : True}\n",
        "charging_stations['서초충전소'] = {'slots' : 3, 'reseved' : 1, 'fast_charge' : False}\n",
        "charging_stations['종로충전소'] = {'slots' : 4, 'reseved' : 4, 'fast_charge' : True}\n",
        "\n",
        "print(\"\\n충전소 예약 현황:\")\n",
        "for station in charging_stations:\n",
        "  info = charging_stations[station]\n",
        "  available = info['slots'] - info['reseved']\n",
        "  charge_type = \"급속\" if info['fast_charge'] else \"완속\"\n",
        "  print(f\"{station} : {available}/{info['slots']} 이용가능 ({charge_type})\")"
      ],
      "metadata": {
        "colab": {
          "base_uri": "https://localhost:8080/"
        },
        "id": "vVuG56FNLaER",
        "outputId": "4855890e-900c-4cdd-ef7f-3c6399abf103"
      },
      "execution_count": null,
      "outputs": [
        {
          "output_type": "stream",
          "name": "stdout",
          "text": [
            "\n",
            "충전소 예약 현황:\n",
            "강남충전소 : 3/5 이용가능 (급속)\n",
            "서초충전소 : 2/3 이용가능 (완속)\n",
            "종로충전소 : 0/4 이용가능 (급속)\n"
          ]
        }
      ]
    },
    {
      "cell_type": "code",
      "source": [
        "# ===== 과제 5: 도로 위험도 평가 및 경고 시스템 =====\n",
        "print(\"\\n=== 과제 5: 도로 위험도 평가 및 경고 시스템 ===\")\n",
        "# 도로 구간별 위험 요소\n",
        "road_segments = ['구간A', '구간B', '구간C', '구간D']\n",
        "road_conditions = [\n",
        "    {'rain': True, 'fog': False, 'construction': False, 'accident': False},\n",
        "    {'rain': False, 'fog': True, 'construction': True, 'accident': False},\n",
        "    {'rain': True, 'fog': False, 'construction': False, 'accident': True},\n",
        "    {'rain': False, 'fog': False, 'construction': False, 'accident': False}\n",
        "]\n",
        "\n",
        "# ===== 과제 6: 도로 위험도 평가 및 경고 시스템 =====\n",
        "print(\"\\n=== 과제 6: 도로 위험도 평가 및 경고 시스템 ===\")\n",
        "# 도로별 위험도 계산\n",
        "road_safety = {}\n",
        "for i, segment in enumerate(road_segments):\n",
        "    conditions = road_conditions[i]\n",
        "    risk_score = 0\n",
        "\n",
        "    if conditions['rain']:\n",
        "        risk_score += 20\n",
        "    if conditions['fog']:\n",
        "        risk_score += 30\n",
        "    if conditions['construction']:\n",
        "        risk_score += 25\n",
        "    if conditions['accident']:\n",
        "        risk_score += 50\n",
        "\n",
        "    road_safety[segment] = {'risk_score': risk_score, 'conditions': conditions}\n",
        "\n",
        "print(\"도로 구간별 위험도:\")\n",
        "for segment in road_segments:\n",
        "    safety = road_safety[segment]\n",
        "    risk = safety['risk_score']\n",
        "    conditions = safety['conditions']\n",
        "\n",
        "    if risk >= 50:\n",
        "        level = \"매우위험\"\n",
        "    elif risk >= 30:\n",
        "        level = \"위험\"\n",
        "    elif risk >= 15:\n",
        "        level = \"주의\"\n",
        "    else:\n",
        "        level = \"안전\"\n",
        "\n",
        "    print(f\"{segment}: {risk}점 ({level})\")\n",
        "\n",
        "    # 위험 요소 상세 표시\n",
        "    warnings = []\n",
        "    if conditions['rain']:\n",
        "        warnings.append(\"우천\")\n",
        "    if conditions['fog']:\n",
        "        warnings.append(\"안개\")\n",
        "    if conditions['construction']:\n",
        "        warnings.append(\"공사중\")\n",
        "    if conditions['accident']:\n",
        "        warnings.append(\"사고발생\")\n",
        "\n",
        "    if warnings:\n",
        "        print(f\"  ⚠️ 위험요소: {', '.join(warnings)}\")\n",
        "\n"
      ],
      "metadata": {
        "colab": {
          "base_uri": "https://localhost:8080/"
        },
        "id": "2Xzh1OefNxOl",
        "outputId": "3c35cd32-cc1b-47fb-d9f1-60ccde33881e"
      },
      "execution_count": null,
      "outputs": [
        {
          "output_type": "stream",
          "name": "stdout",
          "text": [
            "\n",
            "=== 과제 5: 도로 위험도 평가 및 경고 시스템 ===\n",
            "\n",
            "=== 과제 6: 도로 위험도 평가 및 경고 시스템 ===\n",
            "도로 구간별 위험도:\n",
            "구간A: 20점 (주의)\n",
            "  ⚠️ 위험요소: 우천\n",
            "구간B: 55점 (매우위험)\n",
            "  ⚠️ 위험요소: 안개, 공사중\n",
            "구간C: 70점 (매우위험)\n",
            "  ⚠️ 위험요소: 우천, 사고발생\n",
            "구간D: 0점 (안전)\n"
          ]
        }
      ]
    },
    {
      "cell_type": "code",
      "source": [
        "# ===== 과제 6: 승객 승하차 최적화 시스템 =====\n",
        "print(\"\\n=== 과제 6: 승객 승하차 최적화 시스템 ===\")\n",
        "\n",
        "# 버스 정류장별 대기 승객\n",
        "\n",
        "bus_stops = ['정류장1', '정류장2', '정류장3', '정류장4', '정류장5']\n",
        "waiting_passengers = [8, 3, 12, 6, 15]\n",
        "\n",
        "# 정류장별 상세 정보\n",
        "stop_info = {}\n",
        "stop_info['정류장1'] = {'waiting': 8, 'getting_off': 5, 'shelter': True}\n",
        "stop_info['정류장2'] = {'waiting': 3, 'getting_off': 2, 'shelter': False}\n",
        "stop_info['정류장3'] = {'waiting': 12, 'getting_off': 8, 'shelter': True}\n",
        "stop_info['정류장4'] = {'waiting': 6, 'getting_off': 3, 'shelter': False}\n",
        "stop_info['정류장5'] = {'waiting': 15, 'getting_off': 10, 'shelter': True}\n",
        "\n",
        "print(\"정류장별 승객 현황:\")\n",
        "\n",
        "for stop in bus_stops:\n",
        "    info = stop_info[stop]\n",
        "    shelter_status = \"있음\" if info['shelter'] else \"없음\"\n",
        "    print(f\"{stop}: 대기 {info['waiting']}명, 하차 {info['getting_off']}명 (차양막 {shelter_status})\")\n",
        "\n",
        "# 우선정차 정류장 (대기승객 10명 이상)\n",
        "print(\"\\n우선정차 권장 정류장:\")\n",
        "for stop in bus_stops:\n",
        "    if stop_info[stop]['waiting'] >= 10:\n",
        "        info = stop_info[stop]\n",
        "        print(f\"🚌 {stop}: 대기승객 {info['waiting']}명\")\n",
        "# 현재 버스 용량 시뮬레이션\n",
        "bus_capacity = 40\n",
        "current_passengers = 25\n",
        "\n",
        "print(f\"\\n현재 버스 상황: {current_passengers}/{bus_capacity}명 탑승 중\")\n",
        "\n",
        "for stop in bus_stops:\n",
        "    info = stop_info[stop]\n",
        "    after_getting_off = current_passengers - info['getting_off']\n",
        "    after_boarding = after_getting_off + info['waiting']\n",
        "\n",
        "    if after_boarding > bus_capacity:\n",
        "        can_board = bus_capacity - after_getting_off\n",
        "        print(f\"{stop}: {info['waiting']}명 중 {can_board}명만 탑승 가능 (포화상태)\")\n",
        "    else:\n",
        "        print(f\"{stop}: 전원 탑승 가능\")\n",
        "\n",
        "    # 다음 정류장으로 이동\n",
        "    current_passengers = min(after_boarding, bus_capacity)\n"
      ],
      "metadata": {
        "colab": {
          "base_uri": "https://localhost:8080/"
        },
        "id": "W2jH0H19OYxw",
        "outputId": "6b30b0eb-3324-4d92-f34f-ea3ef087c133"
      },
      "execution_count": null,
      "outputs": [
        {
          "output_type": "stream",
          "name": "stdout",
          "text": [
            "\n",
            "=== 과제 6: 승객 승하차 최적화 시스템 ===\n",
            "정류장별 승객 현황:\n",
            "정류장1: 대기 8명, 하차 5명 (차양막 있음)\n",
            "정류장2: 대기 3명, 하차 2명 (차양막 없음)\n",
            "정류장3: 대기 12명, 하차 8명 (차양막 있음)\n",
            "정류장4: 대기 6명, 하차 3명 (차양막 없음)\n",
            "정류장5: 대기 15명, 하차 10명 (차양막 있음)\n",
            "\n",
            "우선정차 권장 정류장:\n",
            "🚌 정류장3: 대기승객 12명\n",
            "🚌 정류장5: 대기승객 15명\n",
            "\n",
            "현재 버스 상황: 25/40명 탑승 중\n",
            "정류장1: 전원 탑승 가능\n",
            "정류장2: 전원 탑승 가능\n",
            "정류장3: 전원 탑승 가능\n",
            "정류장4: 전원 탑승 가능\n",
            "정류장5: 15명 중 14명만 탑승 가능 (포화상태)\n"
          ]
        }
      ]
    }
  ]
}